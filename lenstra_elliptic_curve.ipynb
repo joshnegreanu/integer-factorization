{
 "cells": [
  {
   "cell_type": "markdown",
   "metadata": {},
   "source": [
    "# Lenstra's Elliptic Curve Method for Integer Factorization\n",
    "\n",
    "We note the definition of an elliptic curve in $\\R^2$ space:\n",
    "\n",
    "$$y^2 = x^3 + ax + b$$\n",
    "\n",
    "We then consider the discrete analogue for a finite field with $N$ elements, namely $\\Z_N$. In this case, we say that coefficients $a,b \\in \\Z_N$. Let us call this group $E(N)$. We also set a restriction that $4a^3 + 27$ is invertible modulo $N$, ensuring that there are no singular points on the elliptic curve, which would result in the inability to draw a tangent line. Drawing tangent lines is crucial to the definition of addition under the elliptic curve group $E(N)$.\n",
    "\n",
    "Along with all points on the elliptic curve, we also consider a new, general, point called the \"point at infinity\", denoted by $\\mathcal{O}$. For our purposes, we do not utilize $\\mathcal{O}$, but nonetheless, it is recognized in point addition."
   ]
  },
  {
   "cell_type": "markdown",
   "metadata": {},
   "source": []
  }
 ],
 "metadata": {
  "kernelspec": {
   "display_name": "base",
   "language": "python",
   "name": "python3"
  },
  "language_info": {
   "codemirror_mode": {
    "name": "ipython",
    "version": 3
   },
   "file_extension": ".py",
   "mimetype": "text/x-python",
   "name": "python",
   "nbconvert_exporter": "python",
   "pygments_lexer": "ipython3",
   "version": "3.12.7"
  }
 },
 "nbformat": 4,
 "nbformat_minor": 2
}
